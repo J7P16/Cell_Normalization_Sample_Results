{
 "cells": [
  {
   "cell_type": "code",
   "execution_count": 2,
   "id": "1fa09834-1cd4-4ad2-bc52-51c906c0f75e",
   "metadata": {},
   "outputs": [
    {
     "name": "stdout",
     "output_type": "stream",
     "text": [
      "Collecting torchvision\n",
      "  Downloading torchvision-0.17.1-cp310-cp310-win_amd64.whl.metadata (6.6 kB)\n",
      "Requirement already satisfied: numpy in c:\\users\\johnc\\anaconda3\\envs\\py310\\lib\\site-packages (from torchvision) (1.26.4)\n",
      "Collecting torch==2.2.1 (from torchvision)\n",
      "  Downloading torch-2.2.1-cp310-cp310-win_amd64.whl.metadata (26 kB)\n",
      "Requirement already satisfied: pillow!=8.3.*,>=5.3.0 in c:\\users\\johnc\\anaconda3\\envs\\py310\\lib\\site-packages (from torchvision) (10.2.0)\n",
      "Collecting filelock (from torch==2.2.1->torchvision)\n",
      "  Downloading filelock-3.13.1-py3-none-any.whl.metadata (2.8 kB)\n",
      "Requirement already satisfied: typing-extensions>=4.8.0 in c:\\users\\johnc\\anaconda3\\envs\\py310\\lib\\site-packages (from torch==2.2.1->torchvision) (4.10.0)\n",
      "Collecting sympy (from torch==2.2.1->torchvision)\n",
      "  Downloading sympy-1.12-py3-none-any.whl.metadata (12 kB)\n",
      "Collecting networkx (from torch==2.2.1->torchvision)\n",
      "  Downloading networkx-3.2.1-py3-none-any.whl.metadata (5.2 kB)\n",
      "Requirement already satisfied: jinja2 in c:\\users\\johnc\\anaconda3\\envs\\py310\\lib\\site-packages (from torch==2.2.1->torchvision) (3.1.3)\n",
      "Collecting fsspec (from torch==2.2.1->torchvision)\n",
      "  Downloading fsspec-2024.2.0-py3-none-any.whl.metadata (6.8 kB)\n",
      "Requirement already satisfied: MarkupSafe>=2.0 in c:\\users\\johnc\\anaconda3\\envs\\py310\\lib\\site-packages (from jinja2->torch==2.2.1->torchvision) (2.1.5)\n",
      "Collecting mpmath>=0.19 (from sympy->torch==2.2.1->torchvision)\n",
      "  Downloading mpmath-1.3.0-py3-none-any.whl.metadata (8.6 kB)\n",
      "Downloading torchvision-0.17.1-cp310-cp310-win_amd64.whl (1.2 MB)\n",
      "   ---------------------------------------- 0.0/1.2 MB ? eta -:--:--\n",
      "   ----------- ---------------------------- 0.3/1.2 MB 10.2 MB/s eta 0:00:01\n",
      "   ---------------------------------------- 1.2/1.2 MB 18.3 MB/s eta 0:00:00\n",
      "Downloading torch-2.2.1-cp310-cp310-win_amd64.whl (198.6 MB)\n",
      "   ---------------------------------------- 0.0/198.6 MB ? eta -:--:--\n",
      "    --------------------------------------- 3.1/198.6 MB 98.8 MB/s eta 0:00:02\n",
      "   - -------------------------------------- 7.9/198.6 MB 101.5 MB/s eta 0:00:02\n",
      "   -- ------------------------------------ 12.6/198.6 MB 108.8 MB/s eta 0:00:02\n",
      "   --- ----------------------------------- 17.2/198.6 MB 108.8 MB/s eta 0:00:02\n",
      "   ---- ---------------------------------- 22.0/198.6 MB 108.8 MB/s eta 0:00:02\n",
      "   ----- --------------------------------- 26.7/198.6 MB 108.8 MB/s eta 0:00:02\n",
      "   ------ -------------------------------- 31.3/198.6 MB 110.0 MB/s eta 0:00:02\n",
      "   ------- ------------------------------- 35.9/198.6 MB 110.0 MB/s eta 0:00:02\n",
      "   ------- ------------------------------- 40.5/198.6 MB 108.8 MB/s eta 0:00:02\n",
      "   --------- ------------------------------ 45.3/198.6 MB 93.9 MB/s eta 0:00:02\n",
      "   --------- ----------------------------- 50.0/198.6 MB 108.8 MB/s eta 0:00:02\n",
      "   ---------- ----------------------------- 54.5/198.6 MB 93.0 MB/s eta 0:00:02\n",
      "   ----------- ---------------------------- 59.3/198.6 MB 93.0 MB/s eta 0:00:02\n",
      "   ------------ --------------------------- 64.2/198.6 MB 93.0 MB/s eta 0:00:02\n",
      "   ------------- -------------------------- 68.8/198.6 MB 93.9 MB/s eta 0:00:02\n",
      "   -------------- ------------------------- 73.5/198.6 MB 93.9 MB/s eta 0:00:02\n",
      "   --------------- ------------------------ 78.3/198.6 MB 93.9 MB/s eta 0:00:02\n",
      "   ---------------- ----------------------- 82.9/198.6 MB 93.9 MB/s eta 0:00:02\n",
      "   ----------------- ---------------------- 87.4/198.6 MB 93.9 MB/s eta 0:00:02\n",
      "   ------------------ --------------------- 92.3/198.6 MB 93.0 MB/s eta 0:00:02\n",
      "   ------------------- -------------------- 97.0/198.6 MB 93.0 MB/s eta 0:00:02\n",
      "   ------------------- ------------------- 101.7/198.6 MB 93.0 MB/s eta 0:00:02\n",
      "   -------------------- ------------------ 106.4/198.6 MB 93.9 MB/s eta 0:00:01\n",
      "   --------------------- ----------------- 111.0/198.6 MB 93.9 MB/s eta 0:00:01\n",
      "   ---------------------- ---------------- 115.7/198.6 MB 93.9 MB/s eta 0:00:01\n",
      "   ----------------------- --------------- 120.4/198.6 MB 93.9 MB/s eta 0:00:01\n",
      "   ------------------------ -------------- 125.2/198.6 MB 93.9 MB/s eta 0:00:01\n",
      "   ------------------------- ------------- 129.9/198.6 MB 93.0 MB/s eta 0:00:01\n",
      "   -------------------------- ------------ 134.7/198.6 MB 93.0 MB/s eta 0:00:01\n",
      "   --------------------------- ----------- 139.5/198.6 MB 93.0 MB/s eta 0:00:01\n",
      "   --------------------------- ---------- 144.4/198.6 MB 110.0 MB/s eta 0:00:01\n",
      "   ---------------------------- --------- 149.0/198.6 MB 110.0 MB/s eta 0:00:01\n",
      "   ------------------------------ -------- 153.7/198.6 MB 93.9 MB/s eta 0:00:01\n",
      "   ------------------------------- ------- 158.4/198.6 MB 93.9 MB/s eta 0:00:01\n",
      "   -------------------------------- ------ 163.2/198.6 MB 93.9 MB/s eta 0:00:01\n",
      "   -------------------------------- ------ 167.8/198.6 MB 93.0 MB/s eta 0:00:01\n",
      "   --------------------------------- ----- 172.5/198.6 MB 93.0 MB/s eta 0:00:01\n",
      "   ---------------------------------- ---- 177.2/198.6 MB 93.0 MB/s eta 0:00:01\n",
      "   ----------------------------------- --- 181.7/198.6 MB 93.9 MB/s eta 0:00:01\n",
      "   ------------------------------------ -- 186.6/198.6 MB 93.9 MB/s eta 0:00:01\n",
      "   ------------------------------------- - 191.3/198.6 MB 93.9 MB/s eta 0:00:01\n",
      "   --------------------------------------  196.0/198.6 MB 93.9 MB/s eta 0:00:01\n",
      "   -------------------------------------  198.6/198.6 MB 108.8 MB/s eta 0:00:01\n",
      "   -------------------------------------  198.6/198.6 MB 108.8 MB/s eta 0:00:01\n",
      "   -------------------------------------  198.6/198.6 MB 108.8 MB/s eta 0:00:01\n",
      "   -------------------------------------  198.6/198.6 MB 108.8 MB/s eta 0:00:01\n",
      "   --------------------------------------- 198.6/198.6 MB 34.4 MB/s eta 0:00:00\n",
      "Downloading filelock-3.13.1-py3-none-any.whl (11 kB)\n",
      "Downloading fsspec-2024.2.0-py3-none-any.whl (170 kB)\n",
      "   ---------------------------------------- 0.0/170.9 kB ? eta -:--:--\n",
      "   ---------------------------------------- 170.9/170.9 kB ? eta 0:00:00\n",
      "Downloading networkx-3.2.1-py3-none-any.whl (1.6 MB)\n",
      "   ---------------------------------------- 0.0/1.6 MB ? eta -:--:--\n",
      "   ---------------------------------------- 1.6/1.6 MB 102.3 MB/s eta 0:00:00\n",
      "Downloading sympy-1.12-py3-none-any.whl (5.7 MB)\n",
      "   ---------------------------------------- 0.0/5.7 MB ? eta -:--:--\n",
      "   -------------------------- ------------- 3.9/5.7 MB 81.9 MB/s eta 0:00:01\n",
      "   ---------------------------------------- 5.7/5.7 MB 73.5 MB/s eta 0:00:00\n",
      "Downloading mpmath-1.3.0-py3-none-any.whl (536 kB)\n",
      "   ---------------------------------------- 0.0/536.2 kB ? eta -:--:--\n",
      "   --------------------------------------- 536.2/536.2 kB 32.9 MB/s eta 0:00:00\n",
      "Installing collected packages: mpmath, sympy, networkx, fsspec, filelock, torch, torchvision\n",
      "Successfully installed filelock-3.13.1 fsspec-2024.2.0 mpmath-1.3.0 networkx-3.2.1 sympy-1.12 torch-2.2.1 torchvision-0.17.1\n"
     ]
    }
   ],
   "source": [
    "!pip install torchvision\n",
    "import PIL.Image as Image\n",
    "import os\n",
    "from torchvision import transforms as transforms"
   ]
  },
  {
   "cell_type": "code",
   "execution_count": 3,
   "id": "f161c3ad-ad44-4d97-87b4-672e54dd971d",
   "metadata": {},
   "outputs": [],
   "source": [
    "dir_path = 'C:/Users/JohnC/Desktop/Datasets/stained_dataset/stained_dataset/train/testdataset_original_copy/'\n",
    "img_list = os.listdir(dir_path)"
   ]
  },
  {
   "cell_type": "code",
   "execution_count": 5,
   "id": "e31aed92-7b72-4a87-83f7-2032be0147d0",
   "metadata": {},
   "outputs": [],
   "source": [
    "save_dir_path = \"C:/Users/JohnC/Desktop/Datasets/stained_dataset/stained_dataset/train/testdataset_stain_augmentation\"\n",
    "if not os.path.exists(save_dir_path):\n",
    "    os.mkdir(save_dir_path)"
   ]
  },
  {
   "cell_type": "code",
   "execution_count": 6,
   "id": "090345d6-b1c2-459e-acfc-81d03991e9f2",
   "metadata": {},
   "outputs": [],
   "source": [
    "for img_path in img_list:\n",
    "    full_img_path = dir_path+img_path\n",
    "    image = transforms.ColorJitter(\n",
    "        brightness=0.35, contrast=0.5, saturation=0.5, hue=0.5\n",
    "    )(Image.open(full_img_path))\n",
    "    save_img_path = save_dir_path + \"/{}\".format(img_path.split(\"/\")[-1])\n",
    "    image.save(save_img_path)"
   ]
  },
  {
   "cell_type": "code",
   "execution_count": null,
   "id": "0d875114-411d-4a9f-ba4b-fef9f40915bd",
   "metadata": {},
   "outputs": [],
   "source": []
  }
 ],
 "metadata": {
  "kernelspec": {
   "display_name": "Python 3 (ipykernel)",
   "language": "python",
   "name": "python3"
  },
  "language_info": {
   "codemirror_mode": {
    "name": "ipython",
    "version": 3
   },
   "file_extension": ".py",
   "mimetype": "text/x-python",
   "name": "python",
   "nbconvert_exporter": "python",
   "pygments_lexer": "ipython3",
   "version": "3.10.13"
  }
 },
 "nbformat": 4,
 "nbformat_minor": 5
}
