{
 "cells": [
  {
   "cell_type": "code",
   "execution_count": 1,
   "id": "f29b86fd-167c-4dd5-8818-a2422783407b",
   "metadata": {},
   "outputs": [],
   "source": [
    "import os\n",
    "from randstainna import RandStainNA\n",
    "import cv2"
   ]
  },
  {
   "cell_type": "code",
   "execution_count": 3,
   "id": "1616aa67-90bc-47ab-8cdd-b05595476be9",
   "metadata": {},
   "outputs": [],
   "source": [
    "randstainna = RandStainNA(\n",
    "    yaml_file = 'C:/Users/JohnC/Desktop/Stain_Methods/random_images.yaml',\n",
    "    std_hyper = 0.0,\n",
    "    distribution = 'normal',\n",
    "    probability = 1.0,\n",
    "    is_train = False\n",
    ")"
   ]
  },
  {
   "cell_type": "code",
   "execution_count": 4,
   "id": "e4891b6b-dadd-4d64-9f03-6d9f7fea359e",
   "metadata": {},
   "outputs": [],
   "source": [
    "dir_path = 'C:/Users/JohnC/Desktop/Datasets/stained_dataset/stained_dataset/train/testdataset_original_copy/'\n",
    "img_list = os.listdir(dir_path)"
   ]
  },
  {
   "cell_type": "code",
   "execution_count": null,
   "id": "83facd04-7d0a-4a67-88f8-958c82961e2a",
   "metadata": {},
   "outputs": [],
   "source": [
    "save_dir_path = 'C:/Users/JohnC/Desktop/Datasets/stained_dataset/stained_dataset/train/testdataset_RandStainNA/'\n",
    "if not os.path.exists(save_dir_path):\n",
    "    os.mkdir(save_dir_path)"
   ]
  }
 ],
 "metadata": {
  "kernelspec": {
   "display_name": "Python 3 (ipykernel)",
   "language": "python",
   "name": "python3"
  },
  "language_info": {
   "codemirror_mode": {
    "name": "ipython",
    "version": 3
   },
   "file_extension": ".py",
   "mimetype": "text/x-python",
   "name": "python",
   "nbconvert_exporter": "python",
   "pygments_lexer": "ipython3",
   "version": "3.10.13"
  }
 },
 "nbformat": 4,
 "nbformat_minor": 5
}
