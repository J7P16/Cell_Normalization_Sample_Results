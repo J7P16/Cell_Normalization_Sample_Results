{
 "cells": [
  {
   "cell_type": "code",
   "execution_count": 2,
   "id": "63df7c65-fe1f-4e83-9e8a-d61b7612f28e",
   "metadata": {},
   "outputs": [
    {
     "name": "stdout",
     "output_type": "stream",
     "text": [
      "Requirement already satisfied: staintools in c:\\users\\johnc\\anaconda3\\envs\\py310\\lib\\site-packages (2.1.2)\n",
      "Requirement already satisfied: numpy in c:\\users\\johnc\\anaconda3\\envs\\py310\\lib\\site-packages (from staintools) (1.26.4)\n",
      "Requirement already satisfied: matplotlib in c:\\users\\johnc\\anaconda3\\envs\\py310\\lib\\site-packages (from staintools) (3.8.3)\n",
      "Requirement already satisfied: opencv-python in c:\\users\\johnc\\anaconda3\\envs\\py310\\lib\\site-packages (from staintools) (4.9.0.80)\n",
      "Requirement already satisfied: contourpy>=1.0.1 in c:\\users\\johnc\\anaconda3\\envs\\py310\\lib\\site-packages (from matplotlib->staintools) (1.2.0)\n",
      "Requirement already satisfied: cycler>=0.10 in c:\\users\\johnc\\anaconda3\\envs\\py310\\lib\\site-packages (from matplotlib->staintools) (0.12.1)\n",
      "Requirement already satisfied: fonttools>=4.22.0 in c:\\users\\johnc\\anaconda3\\envs\\py310\\lib\\site-packages (from matplotlib->staintools) (4.49.0)\n",
      "Requirement already satisfied: kiwisolver>=1.3.1 in c:\\users\\johnc\\anaconda3\\envs\\py310\\lib\\site-packages (from matplotlib->staintools) (1.4.5)\n",
      "Requirement already satisfied: packaging>=20.0 in c:\\users\\johnc\\anaconda3\\envs\\py310\\lib\\site-packages (from matplotlib->staintools) (24.0)\n",
      "Requirement already satisfied: pillow>=8 in c:\\users\\johnc\\anaconda3\\envs\\py310\\lib\\site-packages (from matplotlib->staintools) (10.2.0)\n",
      "Requirement already satisfied: pyparsing>=2.3.1 in c:\\users\\johnc\\anaconda3\\envs\\py310\\lib\\site-packages (from matplotlib->staintools) (3.1.2)\n",
      "Requirement already satisfied: python-dateutil>=2.7 in c:\\users\\johnc\\anaconda3\\envs\\py310\\lib\\site-packages (from matplotlib->staintools) (2.9.0.post0)\n",
      "Requirement already satisfied: six>=1.5 in c:\\users\\johnc\\anaconda3\\envs\\py310\\lib\\site-packages (from python-dateutil>=2.7->matplotlib->staintools) (1.16.0)\n",
      "Collecting spams\n",
      "  Using cached spams-2.6.5.4.tar.gz (2.0 MB)\n",
      "  Installing build dependencies: started\n",
      "  Installing build dependencies: finished with status 'done'\n",
      "  Getting requirements to build wheel: started\n",
      "  Getting requirements to build wheel: finished with status 'done'\n",
      "  Preparing metadata (pyproject.toml): started\n",
      "  Preparing metadata (pyproject.toml): finished with status 'done'\n",
      "Requirement already satisfied: numpy>=1.12 in c:\\users\\johnc\\anaconda3\\envs\\py310\\lib\\site-packages (from spams) (1.26.4)\n",
      "Requirement already satisfied: Pillow>=6.0 in c:\\users\\johnc\\anaconda3\\envs\\py310\\lib\\site-packages (from spams) (10.2.0)\n",
      "Requirement already satisfied: scipy>=1.0 in c:\\users\\johnc\\anaconda3\\envs\\py310\\lib\\site-packages (from spams) (1.12.0)\n",
      "Building wheels for collected packages: spams\n",
      "  Building wheel for spams (pyproject.toml): started\n",
      "  Building wheel for spams (pyproject.toml): finished with status 'error'\n",
      "Failed to build spams\n"
     ]
    },
    {
     "name": "stderr",
     "output_type": "stream",
     "text": [
      "  error: subprocess-exited-with-error\n",
      "  \n",
      "  Building wheel for spams (pyproject.toml) did not run successfully.\n",
      "  exit code: 1\n",
      "  \n",
      "  [26 lines of output]\n",
      "  running bdist_wheel\n",
      "  running build\n",
      "  running build_py\n",
      "  creating build\n",
      "  creating build\\lib.win-amd64-cpython-310\n",
      "  creating build\\lib.win-amd64-cpython-310\\spams_wrap\n",
      "  copying spams_wrap\\spams_wrap.py -> build\\lib.win-amd64-cpython-310\\spams_wrap\n",
      "  copying spams_wrap\\__init__.py -> build\\lib.win-amd64-cpython-310\\spams_wrap\n",
      "  creating build\\lib.win-amd64-cpython-310\\spams\n",
      "  copying spams\\spams.py -> build\\lib.win-amd64-cpython-310\\spams\n",
      "  copying spams\\__init__.py -> build\\lib.win-amd64-cpython-310\\spams\n",
      "  creating build\\lib.win-amd64-cpython-310\\spams\\tests\n",
      "  copying spams\\tests\\run.py -> build\\lib.win-amd64-cpython-310\\spams\\tests\n",
      "  copying spams\\tests\\test_decomp.py -> build\\lib.win-amd64-cpython-310\\spams\\tests\n",
      "  copying spams\\tests\\test_dictLearn.py -> build\\lib.win-amd64-cpython-310\\spams\\tests\n",
      "  copying spams\\tests\\test_linalg.py -> build\\lib.win-amd64-cpython-310\\spams\\tests\n",
      "  copying spams\\tests\\test_prox.py -> build\\lib.win-amd64-cpython-310\\spams\\tests\n",
      "  copying spams\\tests\\test_spams.py -> build\\lib.win-amd64-cpython-310\\spams\\tests\n",
      "  copying spams\\tests\\test_utils.py -> build\\lib.win-amd64-cpython-310\\spams\\tests\n",
      "  copying spams\\tests\\__init__.py -> build\\lib.win-amd64-cpython-310\\spams\\tests\n",
      "  creating build\\lib.win-amd64-cpython-310\\spams\\data\n",
      "  copying spams\\data\\boat.png -> build\\lib.win-amd64-cpython-310\\spams\\data\n",
      "  copying spams\\data\\lena.png -> build\\lib.win-amd64-cpython-310\\spams\\data\n",
      "  copying spams\\version -> build\\lib.win-amd64-cpython-310\\spams\n",
      "  running build_ext\n",
      "  error: Microsoft Visual C++ 14.0 or greater is required. Get it with \"Microsoft C++ Build Tools\": https://visualstudio.microsoft.com/visual-cpp-build-tools/\n",
      "  [end of output]\n",
      "  \n",
      "  note: This error originates from a subprocess, and is likely not a problem with pip.\n",
      "  ERROR: Failed building wheel for spams\n",
      "ERROR: Could not build wheels for spams, which is required to install pyproject.toml-based projects\n"
     ]
    },
    {
     "ename": "ModuleNotFoundError",
     "evalue": "No module named 'spams'",
     "output_type": "error",
     "traceback": [
      "\u001b[1;31m---------------------------------------------------------------------------\u001b[0m",
      "\u001b[1;31mModuleNotFoundError\u001b[0m                       Traceback (most recent call last)",
      "Cell \u001b[1;32mIn[2], line 5\u001b[0m\n\u001b[0;32m      3\u001b[0m get_ipython()\u001b[38;5;241m.\u001b[39msystem(\u001b[38;5;124m'\u001b[39m\u001b[38;5;124mpip install staintools\u001b[39m\u001b[38;5;124m'\u001b[39m)\n\u001b[0;32m      4\u001b[0m get_ipython()\u001b[38;5;241m.\u001b[39msystem(\u001b[38;5;124m'\u001b[39m\u001b[38;5;124mpip install spams\u001b[39m\u001b[38;5;124m'\u001b[39m)\n\u001b[1;32m----> 5\u001b[0m \u001b[38;5;28;01mimport\u001b[39;00m \u001b[38;5;21;01mspams\u001b[39;00m\n\u001b[0;32m      6\u001b[0m \u001b[38;5;28;01mimport\u001b[39;00m \u001b[38;5;21;01mstaintools\u001b[39;00m \u001b[38;5;28;01mas\u001b[39;00m \u001b[38;5;21;01mutils\u001b[39;00m\n\u001b[0;32m      7\u001b[0m \u001b[38;5;28;01mimport\u001b[39;00m \u001b[38;5;21;01mstainNorm_Reinhard\u001b[39;00m\n",
      "\u001b[1;31mModuleNotFoundError\u001b[0m: No module named 'spams'"
     ]
    }
   ],
   "source": [
    "from __future__ import division\n",
    "\n",
    "import spams\n",
    "import staintools as utils\n",
    "import stainNorm_Reinhard\n",
    "import stainNorm_Macenko\n",
    "import stainNorm_Vahadane\n",
    "%load_ext autoreload\n",
    "%autoreload 2\n",
    "\n",
    "import numpy as np\n",
    "import matplotlib.pyplot as plt\n",
    "%matplotlib inline"
   ]
  },
  {
   "cell_type": "code",
   "execution_count": null,
   "id": "b8ddc74c-dddc-4b6c-9992-5ca5d48b3f6e",
   "metadata": {},
   "outputs": [],
   "source": []
  }
 ],
 "metadata": {
  "kernelspec": {
   "display_name": "Python 3 (ipykernel)",
   "language": "python",
   "name": "python3"
  },
  "language_info": {
   "codemirror_mode": {
    "name": "ipython",
    "version": 3
   },
   "file_extension": ".py",
   "mimetype": "text/x-python",
   "name": "python",
   "nbconvert_exporter": "python",
   "pygments_lexer": "ipython3",
   "version": "3.10.13"
  }
 },
 "nbformat": 4,
 "nbformat_minor": 5
}
