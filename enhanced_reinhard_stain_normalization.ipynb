{
 "cells": [
  {
   "cell_type": "code",
   "execution_count": 1,
   "id": "cd206e91-407b-4413-8e6b-2987bf9a86eb",
   "metadata": {},
   "outputs": [],
   "source": [
    "import numpy as np\n",
    "import cv2\n",
    "import os"
   ]
  },
  {
   "cell_type": "code",
   "execution_count": 2,
   "id": "e3b00157-5758-4c74-86b3-af56424a228a",
   "metadata": {},
   "outputs": [],
   "source": [
    "input_dir = \"C:/Users/JohnC/Desktop/Datasets/stained_dataset/stained_dataset/train/testdataset_original_copy/\"\n",
    "input_image_list = os.listdir(input_dir)"
   ]
  },
  {
   "cell_type": "code",
   "execution_count": 3,
   "id": "9616316e-3442-4f02-86ab-5b3395afb01e",
   "metadata": {},
   "outputs": [],
   "source": [
    "output_dir = \"C:/Users/JohnC/Desktop/Datasets/stained_dataset/stained_dataset/train/testdataset_reinhard_stain_normalized\""
   ]
  },
  {
   "cell_type": "code",
   "execution_count": 4,
   "id": "bdcb4c39-314d-49ae-ae17-367c3d76f8d0",
   "metadata": {},
   "outputs": [],
   "source": [
    "if not os.path.exists(output_dir):\n",
    "    os.mkdir(output_dir)"
   ]
  },
  {
   "cell_type": "code",
   "execution_count": 5,
   "id": "e5c72a75-e5e4-47f1-aa79-e76a13ec3932",
   "metadata": {},
   "outputs": [],
   "source": [
    "def get_mean_and_std(x):\n",
    "\tx_mean, x_std = cv2.meanStdDev(x)\n",
    "\tx_mean = np.hstack(np.around(x_mean,2))\n",
    "\tx_std = np.hstack(np.around(x_std,2))\n",
    "\treturn x_mean, x_std"
   ]
  },
  {
   "cell_type": "code",
   "execution_count": 6,
   "id": "4f2b129e-649a-4870-8c04-2755669443ec",
   "metadata": {},
   "outputs": [],
   "source": [
    "template_img = cv2.imread('C:/Users/JohnC/Desktop/Datasets/stained_dataset/stained_dataset/train/Reference5.jpg')\n",
    "template_img = cv2.cvtColor(template_img,cv2.COLOR_BGR2LAB)\n",
    "template_mean, template_std = get_mean_and_std(template_img)"
   ]
  },
  {
   "cell_type": "code",
   "execution_count": 7,
   "id": "eb09fb90-d48c-418d-aa69-2190f4bb110d",
   "metadata": {},
   "outputs": [
    {
     "name": "stdout",
     "output_type": "stream",
     "text": [
      "TCGA-05-4249-01Z-00-DX1.9fce0297-cc19-4c04-872c-4466ee4024db_20x_52.jpg\n",
      "TCGA-05-4396-01Z-00-DX1.49DD5F68-7473-4945-B384-EA6D5AE383CB_20x_33.jpg\n",
      "TCGA-18-3407-01Z-00-DX1.E7DDA7E3-45A2-4E06-A081-E6A81A672155_20x_5.jpg\n",
      "TCGA-18-3410-01Z-00-DX1.DB186D75-4AEE-4E1B-83D5-5A1970F03581_20x_118.jpg\n",
      "TCGA-18-3410-01Z-00-DX1.DB186D75-4AEE-4E1B-83D5-5A1970F03581_20x_204.jpg\n",
      "TCGA-18-3410-01Z-00-DX1.DB186D75-4AEE-4E1B-83D5-5A1970F03581_20x_229.jpg\n",
      "TCGA-18-3410-01Z-00-DX1.DB186D75-4AEE-4E1B-83D5-5A1970F03581_20x_72.jpg\n",
      "TCGA-18-3414-01Z-00-DX1.B76AF657-7A93-4F33-BC1A-2E8BF652FC17_20x_1.jpg\n",
      "TCGA-18-3414-01Z-00-DX1.B76AF657-7A93-4F33-BC1A-2E8BF652FC17_20x_136.jpg\n",
      "TCGA-18-3414-01Z-00-DX1.B76AF657-7A93-4F33-BC1A-2E8BF652FC17_20x_44.jpg\n",
      "TCGA-18-3414-01Z-00-DX1.B76AF657-7A93-4F33-BC1A-2E8BF652FC17_20x_71.jpg\n",
      "TCGA-18-3414-01Z-00-DX1.B76AF657-7A93-4F33-BC1A-2E8BF652FC17_20x_89.jpg\n",
      "TCGA-18-3415-01Z-00-DX1.8C62F2CD-4A2F-4D1E-A662-D7D5AFE557AB_20x_129.jpg\n",
      "TCGA-18-3416-01Z-00-DX1.EDAD3DEB-8A86-4F34-82EC-6691BFDE900D_20x_102.jpg\n",
      "TCGA-18-3416-01Z-00-DX1.EDAD3DEB-8A86-4F34-82EC-6691BFDE900D_20x_19.jpg\n",
      "TCGA-18-3419-01Z-00-DX1.69597BCF-2D4E-4D9B-B4E8-C03137445AF4_20x_113.jpg\n",
      "TCGA-18-3421-01Z-00-DX1.3777597A-8B36-48A9-B950-C8233392A6D5_20x_108.jpg\n",
      "TCGA-18-3421-01Z-00-DX1.3777597A-8B36-48A9-B950-C8233392A6D5_20x_50.jpg\n",
      "TCGA-18-4083-01Z-00-DX1.337D4583-326F-4108-9441-DC74FAED6AE2_20x_147.jpg\n",
      "TCGA-18-5592-01Z-00-DX1.41BD6380-A3A0-4ED1-8752-42BBC3B4680C_20x_53.jpg\n",
      "TCGA-18-5595-01Z-00-DX1.75235488-2F6F-42CE-8D7D-0E9A360E1C61_20x_39.jpg\n",
      "TCGA-21-1070-01Z-00-DX1.06363f8a-ef29-4d73-95da-a3172d7873c0_20x_13.jpg\n",
      "TCGA-21-1070-01Z-00-DX1.06363f8a-ef29-4d73-95da-a3172d7873c0_20x_18.jpg\n",
      "TCGA-21-1070-01Z-00-DX1.06363f8a-ef29-4d73-95da-a3172d7873c0_20x_25.jpg\n",
      "TCGA-21-1071-01Z-00-DX1.a9bba825-1c92-4101-9086-c4d1c91117af_20x_6.jpg\n",
      "TCGA-21-1075-01Z-00-DX1.937872ae-4d6f-4d7a-b54f-b7e797cb84b0_20x_1.jpg\n",
      "TCGA-21-1076-01Z-00-DX1.533ca070-93e0-4d49-8770-8f42f341ca38_20x_10.jpg\n",
      "TCGA-21-1080-01Z-00-DX1.7afa55df-e460-406e-ae9a-43ac4a71d0b0_20x_15.jpg\n",
      "TCGA-21-1083-01Z-00-DX1.8288ca92-b611-4acf-986e-0b8a3f620b94_20x_7.jpg\n",
      "TCGA-21-5782-01Z-00-DX1.E0C856C0-9055-4437-9393-695D699E4F57_20x_16.jpg\n",
      "TCGA-21-5782-01Z-00-DX1.E0C856C0-9055-4437-9393-695D699E4F57_20x_42.jpg\n",
      "TCGA-21-5783-01Z-00-DX1.3FAB28DF-5748-42D5-8257-3D440C4FB5FB_20x_23.jpg\n",
      "TCGA-21-5787-01Z-00-DX1.FEE037E3-B9B0-4C2E-97EF-D6E4F64E1DF9_20x_26.jpg\n",
      "TCGA-22-1011-01Z-00-DX1.A67E3D3F-4B94-4335-8199-03B7CB75608E_20x_3.jpg\n",
      "TCGA-22-1017-01Z-00-DX1.9562FE79-A261-42D3-B394-F3E0E2FF7DDA_20x_19.jpg\n",
      "TCGA-22-1017-01Z-00-DX1.9562FE79-A261-42D3-B394-F3E0E2FF7DDA_20x_63.jpg\n",
      "TCGA-33-4532-01Z-00-DX1.32ab8c26-7cdc-4e55-8c70-5a35d83f81a2_20x_55.jpg\n",
      "TCGA-33-4538-01Z-00-DX8.ec0d10ef-ec0e-4ad2-81fb-907754694e42_20x_158.jpg\n",
      "TCGA-33-4538-01Z-00-DX8.ec0d10ef-ec0e-4ad2-81fb-907754694e42_20x_2.jpg\n",
      "TCGA-33-4582-01Z-00-DX1.629AEDB6-E9AA-4615-92E8-5DDAAFF6103E_20x_26.jpg\n",
      "TCGA-33-4583-01Z-00-DX1.c5e3071e-a941-46db-a987-74a059ee6d69_20x_103.jpg\n",
      "TCGA-33-4583-01Z-00-DX1.c5e3071e-a941-46db-a987-74a059ee6d69_20x_22.jpg\n",
      "TCGA-33-4583-01Z-00-DX2.8fc10fa1-82b8-49c5-972b-e4303b4293a7_20x_128.jpg\n",
      "TCGA-33-4583-01Z-00-DX2.8fc10fa1-82b8-49c5-972b-e4303b4293a7_20x_229.jpg\n",
      "TCGA-34-2600-01Z-00-DX1.CDCAAE91-3056-4952-B988-00F3722B520B_20x_107.jpg\n",
      "TCGA-35-3615-01Z-00-DX1.585128eb-6652-4b05-9a83-dc8f242904a6_20x_60.jpg\n",
      "TCGA-35-4123-01Z-00-DX1.990553a8-657e-49ec-9782-e6d30a4c4909_20x_41.jpg\n",
      "TCGA-35-5375-01Z-00-DX1.10708170-750A-451B-BC10-0B4042540033_20x_43.jpg\n",
      "TCGA-37-4132-01Z-00-DX1.5e5a564d-6561-48e7-a3a2-81a523392d8b_20x_44.jpg\n",
      "TCGA-38-4625-01Z-00-DX1.ffdbfc1d-7a21-4e67-a54f-89597bd14a7f_20x_11.jpg\n",
      "TCGA-38-4628-01Z-00-DX1.eee4f100-142f-4d9c-8e38-b16aab123413_20x_8.jpg\n",
      "TCGA-38-7271-01Z-00-DX1.EF258BEB-8DEA-483E-823A-1E0B90AAA392_20x_10.jpg\n",
      "TCGA-39-5024-01Z-00-DX1.b159135e-c9d5-4768-83a6-1de9961d20ad_20x_78.jpg\n",
      "TCGA-3H-AB3L-01Z-00-DX1.AED33A7B-EEED-468B-8892-2B7F338C5471_20x_17.jpg\n",
      "TCGA-3H-AB3U-01Z-00-DX1.D051FA12-C938-47C8-B540-89DA42D9610A_20x_2.jpg\n",
      "TCGA-3U-A98H-01Z-00-DX1.CE8066E4-A543-445D-84D9-819C8C0922CB_20x_44.jpg\n",
      "TCGA-3U-A98H-01Z-00-DX1.CE8066E4-A543-445D-84D9-819C8C0922CB_20x_53.jpg\n",
      "TCGA-44-3396-01Z-00-DX1.187b0a68-ad51-4fcd-819c-b74a8599dbe9_20x_27.jpg\n",
      "TCGA-44-4112-01Z-00-DX1.5380b3b4-0e24-4c6c-aa8c-298c5fbe068f_20x_7.jpg\n",
      "TCGA-44-5645-01Z-00-DX1.8b0d89d7-7849-49a6-a2f5-a8faf2c5aab4_20x_3.jpg\n",
      "TCGA-44-5645-01Z-00-DX1.8b0d89d7-7849-49a6-a2f5-a8faf2c5aab4_20x_32.jpg\n",
      "TCGA-44-7662-01Z-00-DX1.2f0b6cea-795a-40ad-93a9-319858e6fb3b_20x_6.jpg\n",
      "TCGA-49-4487-01Z-00-DX1.3a3a0720-463c-430e-849b-e2f8991bdfa5_20x_44.jpg\n",
      "TCGA-49-4487-01Z-00-DX1.3a3a0720-463c-430e-849b-e2f8991bdfa5_20x_7.jpg\n",
      "TCGA-49-4487-01Z-00-DX1.3a3a0720-463c-430e-849b-e2f8991bdfa5_20x_8.jpg\n",
      "TCGA-49-4488-01Z-00-DX1.c9beef33-2d53-4fcb-8293-f083d9fedddc_20x_34.jpg\n",
      "TCGA-49-4488-01Z-00-DX3.341ea7ac-ee5f-4ad2-9d01-d81a4d2e9b13_20x_21.jpg\n",
      "TCGA-49-4488-01Z-00-DX4.17c00349-5908-4944-9dba-5efea9a5373a_20x_127.jpg\n",
      "TCGA-49-4488-01Z-00-DX4.17c00349-5908-4944-9dba-5efea9a5373a_20x_36.jpg\n",
      "TCGA-49-4488-01Z-00-DX5.6380c697-c81b-48c8-863c-ea1cdd097464_20x_27.jpg\n",
      "TCGA-49-4488-01Z-00-DX6.3ce306b2-1b00-48f7-8288-c24069037a9c_20x_20.jpg\n",
      "TCGA-49-4490-01Z-00-DX3.0949a10a-0a1f-49dc-9296-ab4d4f0bf988_20x_148.jpg\n",
      "TCGA-49-4490-01Z-00-DX4.4e94aeb6-f616-4bdd-82bc-2ca2f2b5a5c4_20x_19.jpg\n",
      "TCGA-49-4490-01Z-00-DX4.4e94aeb6-f616-4bdd-82bc-2ca2f2b5a5c4_20x_3.jpg\n",
      "TCGA-49-4490-01Z-00-DX4.4e94aeb6-f616-4bdd-82bc-2ca2f2b5a5c4_20x_99.jpg\n",
      "TCGA-49-4490-01Z-00-DX5.feea87ff-61c6-465e-8b36-4803f6af3d62_20x_64.jpg\n",
      "TCGA-49-4490-01Z-00-DX6.0a04ad8e-7f33-4496-bd9e-0110ec33f887_20x_22.jpg\n",
      "TCGA-49-4494-01Z-00-DX1.2bf10e85-465a-4b17-abd7-3565f0e538a5_20x_78.jpg\n",
      "TCGA-49-4494-01Z-00-DX2.cac5ed0a-98c3-4d37-a4f4-9596a061836a_20x_175.jpg\n",
      "TCGA-49-4494-01Z-00-DX3.e80b4534-4d6e-4d79-962e-017ffee24d67_20x_40.jpg\n",
      "TCGA-4B-A93V-01Z-00-DX1.C263DC1C-298D-47ED-AAF8-128043828530_20x_1.jpg\n",
      "TCGA-6A-AB49-01Z-00-DX1.FDF2EED7-57A3-4019-A382-21DED11780F6_20x_109.jpg\n",
      "TCGA-6A-AB49-01Z-00-DX1.FDF2EED7-57A3-4019-A382-21DED11780F6_20x_6.jpg\n"
     ]
    }
   ],
   "source": [
    "for img in (input_image_list):\n",
    "    print(img)\n",
    "    input_img = cv2.imread(input_dir+img)\n",
    "    input_img = cv2.cvtColor(input_img,cv2.COLOR_BGR2LAB)\n",
    "    \n",
    "    \n",
    "    img_mean, img_std = get_mean_and_std(input_img)\n",
    "    \n",
    "    \n",
    "    height, width, channel = input_img.shape\n",
    "    for i in range(0,height):\n",
    "        for j in range(0,width):\n",
    "            for k in range(0,channel):\n",
    "            \tx = input_img[i,j,k]\n",
    "            \tx = ((x-img_mean[k])*(template_std[k]/img_std[k]))+template_mean[k]\n",
    "            \tx = round(x)\n",
    "            \t# boundary check\n",
    "            \tx = 0 if x<0 else x\n",
    "            \tx = 255 if x>255 else x\n",
    "            \tinput_img[i,j,k] = x\n",
    "            \n",
    "    input_img= cv2.cvtColor(input_img,cv2.COLOR_LAB2BGR)\n",
    "    cv2.imwrite(output_dir+\"modified_\"+img, input_img)"
   ]
  },
  {
   "cell_type": "code",
   "execution_count": null,
   "id": "5355ded1-d169-4c37-a03d-6a1101017c88",
   "metadata": {},
   "outputs": [],
   "source": []
  },
  {
   "cell_type": "code",
   "execution_count": null,
   "id": "83eee562-5205-4895-8fe6-cb9984bea4c7",
   "metadata": {},
   "outputs": [],
   "source": []
  }
 ],
 "metadata": {
  "kernelspec": {
   "display_name": "Python 3 (ipykernel)",
   "language": "python",
   "name": "python3"
  },
  "language_info": {
   "codemirror_mode": {
    "name": "ipython",
    "version": 3
   },
   "file_extension": ".py",
   "mimetype": "text/x-python",
   "name": "python",
   "nbconvert_exporter": "python",
   "pygments_lexer": "ipython3",
   "version": "3.10.13"
  }
 },
 "nbformat": 4,
 "nbformat_minor": 5
}
